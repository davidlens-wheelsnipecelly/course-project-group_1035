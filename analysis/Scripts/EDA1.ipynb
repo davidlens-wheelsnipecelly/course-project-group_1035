{
 "cells": [
  {
   "cell_type": "code",
   "execution_count": 2,
   "id": "recovered-mortality",
   "metadata": {},
   "outputs": [],
   "source": [
    "import project_files\n",
    "import pandas as pd\n",
    "import seaborn as sns"
   ]
  },
  {
   "cell_type": "code",
   "execution_count": 3,
   "id": "stopped-donor",
   "metadata": {},
   "outputs": [],
   "source": [
    "df = project_files.load_and_process('../../data/raw/project files.csv')"
   ]
  },
  {
   "cell_type": "code",
   "execution_count": null,
   "id": "contemporary-security",
   "metadata": {},
   "outputs": [],
   "source": []
  }
 ],
 "metadata": {
  "kernelspec": {
   "display_name": "Python 3",
   "language": "python",
   "name": "python3"
  },
  "language_info": {
   "codemirror_mode": {
    "name": "ipython",
    "version": 3
   },
   "file_extension": ".py",
   "mimetype": "text/x-python",
   "name": "python",
   "nbconvert_exporter": "python",
   "pygments_lexer": "ipython3",
   "version": "3.8.5"
  }
 },
 "nbformat": 4,
 "nbformat_minor": 5
}
